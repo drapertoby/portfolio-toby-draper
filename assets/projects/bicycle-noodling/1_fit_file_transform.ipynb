{
 "cells": [
  {
   "cell_type": "markdown",
   "id": "0e14c459-bf47-4911-bd90-a1c9a6b87a4b",
   "metadata": {},
   "source": [
    "# Overview"
   ]
  },
  {
   "cell_type": "markdown",
   "id": "c97587c2-42de-4b00-acc4-9766a2b3c4f9",
   "metadata": {},
   "source": [
    "This exercise produces one clean, validated dataset, transformed into .csv format with data organized into columns and rows. The final dataset will be ready for further analysis in Python, SQL, and Tableau.\n",
    "\n",
    "The source data consists of six .fit (Flexible and Interoperable Data Transfer) files — a binary format developed by Garmin for storing fitness activity data. These files contain timestamped records such as heart rate, speed, cadence, GPS position, and other sensor metrics captured during a workout. Each file is structured as a sequence of messages, with \"record\" messages representing individual data points — typically one per second.\n",
    "In this notebook, we will import the files and transform them step by step, documenting each stage with Markdown and inline comments."
   ]
  },
  {
   "cell_type": "markdown",
   "id": "a96e5e5a-b58d-4839-be21-82b0e365f4f8",
   "metadata": {},
   "source": [
    "fitparse is a third-party Python library used to extract structured data from .fit files. It’s not included in standard Python distributions, so it must be installed first."
   ]
  },
  {
   "cell_type": "code",
   "execution_count": 5,
   "id": "353136e3-ef26-4ee0-a30a-cae1e92b8223",
   "metadata": {},
   "outputs": [
    {
     "name": "stdout",
     "output_type": "stream",
     "text": [
      "Defaulting to user installation because normal site-packages is not writeable\n",
      "Requirement already satisfied: fitparse in c:\\users\\toby_\\appdata\\roaming\\python\\python313\\site-packages (1.2.0)\n",
      "Note: you may need to restart the kernel to use updated packages.\n"
     ]
    }
   ],
   "source": [
    "# Install the fitparse library to enable parsing of .fit files\n",
    "pip install fitparse"
   ]
  },
  {
   "cell_type": "code",
   "execution_count": 6,
   "id": "464a3dc0-9c7c-478c-b2da-913d5cc093be",
   "metadata": {},
   "outputs": [],
   "source": [
    "# Import common libraries and fitparse\n",
    "import pandas as pd\n",
    "import numpy as np\n",
    "import datetime as dt\n",
    "from fitparse import FitFile"
   ]
  },
  {
   "cell_type": "markdown",
   "id": "3ed0ee71-83fc-4f9e-8831-f8a70838b94f",
   "metadata": {},
   "source": [
    "The files below are saved in the same directory as this notebook and so there, no file paths are required. "
   ]
  },
  {
   "cell_type": "code",
   "execution_count": 8,
   "id": "2239838f-d5c2-4483-b5c7-ed642c1fb396",
   "metadata": {},
   "outputs": [],
   "source": [
    "# Load the fitfiles\n",
    "ar1 = FitFile('Aerobic_Recovery_1.fit')\n",
    "ar2 = FitFile('Aerobic_Recovery_2.fit')\n",
    "ar3 = FitFile('Aerobic_Recovery_3.fit')\n",
    "ar4 = FitFile('Aerobic_Recovery_4.fit')\n",
    "ar5 = FitFile('Aerobic_Recovery_5.fit')\n",
    "ar6 = FitFile('Aerobic_Recovery_6.fit')"
   ]
  },
  {
   "cell_type": "markdown",
   "id": "709cd6b2-c974-4337-a17d-41783e5a0c0b",
   "metadata": {},
   "source": [
    "I’m interested in messages of type \"record\" — these are second-by-second snapshots of my ride, containing measurements like heart rate, cadence, speed, and power.\n",
    "Each \"record\" is a structured object containing multiple fields. I loop through each one and extract its contents as a dictionary, where:\n",
    "\n",
    "- data.name is the field label (e.g. \"heart_rate\")\n",
    "- data.value is the actual measurement (e.g. 132)\n",
    "\n",
    "This gives me a list full of dictionaries, one dictionary per timestamped data point."
   ]
  },
  {
   "cell_type": "code",
   "execution_count": 11,
   "id": "6e6c6e4e-09ac-474a-9e16-140d75181b1f",
   "metadata": {},
   "outputs": [],
   "source": [
    "# Extract 'record' messages from each file and convert to list of dictionaries\n",
    "\n",
    "records1 = [{data.name: data.value for data in record} for record in ar1.get_messages(\"record\")]\n",
    "records2 = [{data.name: data.value for data in record} for record in ar2.get_messages(\"record\")]\n",
    "records3 = [{data.name: data.value for data in record} for record in ar3.get_messages(\"record\")]\n",
    "records4 = [{data.name: data.value for data in record} for record in ar4.get_messages(\"record\")]\n",
    "records5 = [{data.name: data.value for data in record} for record in ar5.get_messages(\"record\")]\n",
    "records6 = [{data.name: data.value for data in record} for record in ar6.get_messages(\"record\")]"
   ]
  },
  {
   "cell_type": "code",
   "execution_count": 13,
   "id": "b2575f76-97c4-423c-a198-7693ad6d76b1",
   "metadata": {},
   "outputs": [],
   "source": [
    "# Convert each list of dictionaries into a DataFrame\n",
    "ardf1 = pd.DataFrame(records1)\n",
    "ardf2 = pd.DataFrame(records2)\n",
    "ardf3 = pd.DataFrame(records3)\n",
    "ardf4 = pd.DataFrame(records4)\n",
    "ardf5 = pd.DataFrame(records5)\n",
    "ardf6 = pd.DataFrame(records6)"
   ]
  },
  {
   "cell_type": "markdown",
   "id": "6a611945-6a5e-4b13-8ae7-fac9d3108f31",
   "metadata": {},
   "source": [
    "We will now stack the six individual DataFrames to create one master DataFrame containing all records. This will allow us to validate and clean the data in a single structure. The index will be reset to ensure a continuous row sequence across all workouts."
   ]
  },
  {
   "cell_type": "code",
   "execution_count": 15,
   "id": "78518f5c-1557-4065-9163-b945a226fdea",
   "metadata": {},
   "outputs": [],
   "source": [
    "# Create one DataFrame.\n",
    "ardf_master = pd.concat([ardf1, ardf2, ardf3, ardf4, ardf5, ardf6])"
   ]
  },
  {
   "cell_type": "markdown",
   "id": "3ed13669-9aef-407b-ac44-d416cd540f6d",
   "metadata": {},
   "source": [
    "The files were imported in the order they were created. That said, this may not always be the case — so to ensure consistency, we sort the combined dataset by timestamp. This guarantees that all records are in true chronological order, regardless of file import sequence."
   ]
  },
  {
   "cell_type": "code",
   "execution_count": 23,
   "id": "7f88b712-f94d-45f9-8e96-8418b9a19d9b",
   "metadata": {},
   "outputs": [],
   "source": [
    "# Sort the master DataFrame by timestamp\n",
    "ardf_master = ardf_master.sort_values(by=\"timestamp\").reset_index(drop=True)"
   ]
  },
  {
   "cell_type": "code",
   "execution_count": null,
   "id": "b2f0e388-ced3-42da-9cec-955709f795ea",
   "metadata": {},
   "outputs": [],
   "source": [
    "Carry out validation of the new dataframe"
   ]
  },
  {
   "cell_type": "code",
   "execution_count": 25,
   "id": "8cc601ad-5448-428d-84db-c5a93891a797",
   "metadata": {},
   "outputs": [
    {
     "data": {
      "text/plain": [
       "(21606, 11)"
      ]
     },
     "execution_count": 25,
     "metadata": {},
     "output_type": "execute_result"
    }
   ],
   "source": [
    "# View the number of columns and rows\n",
    "ardf_master.shape"
   ]
  },
  {
   "cell_type": "code",
   "execution_count": 32,
   "id": "cb820944-a9f1-4e95-a84b-533bc119703c",
   "metadata": {},
   "outputs": [
    {
     "name": "stdout",
     "output_type": "stream",
     "text": [
      "<class 'pandas.core.frame.DataFrame'>\n",
      "RangeIndex: 21606 entries, 0 to 21605\n",
      "Data columns (total 11 columns):\n",
      " #   Column             Non-Null Count  Dtype         \n",
      "---  ------             --------------  -----         \n",
      " 0   accumulated_power  21605 non-null  float64       \n",
      " 1   activity_type      21606 non-null  object        \n",
      " 2   cadence            21605 non-null  float64       \n",
      " 3   distance           21606 non-null  float64       \n",
      " 4   enhanced_speed     21606 non-null  float64       \n",
      " 5   heart_rate         21606 non-null  int64         \n",
      " 6   power              21605 non-null  float64       \n",
      " 7   speed              21606 non-null  float64       \n",
      " 8   timestamp          21606 non-null  datetime64[ns]\n",
      " 9   position_lat       0 non-null      object        \n",
      " 10  position_long      0 non-null      object        \n",
      "dtypes: datetime64[ns](1), float64(6), int64(1), object(3)\n",
      "memory usage: 1.8+ MB\n"
     ]
    }
   ],
   "source": [
    "# View column names, data types and non-null counts\n",
    "ardf_master.info()"
   ]
  },
  {
   "cell_type": "markdown",
   "id": "3937c257-bd1a-4221-af8c-658768207415",
   "metadata": {},
   "source": [
    "There are two columns named 'position_lat' and 'position_long' that are unecessary for this study, whichh is a stationary indoor trainer ride. We can delete these columns."
   ]
  },
  {
   "cell_type": "code",
   "execution_count": 33,
   "id": "8f1a5d38-0ddf-4b2b-afcf-a735988af2ba",
   "metadata": {},
   "outputs": [],
   "source": [
    "# Drop unused GPS columns\n",
    "ardf_master = ardf_master.drop(columns=[\"position_lat\", \"position_long\"])"
   ]
  },
  {
   "cell_type": "code",
   "execution_count": 34,
   "id": "01de7c96-95cb-4848-a335-ac0554177f90",
   "metadata": {},
   "outputs": [
    {
     "name": "stdout",
     "output_type": "stream",
     "text": [
      "<class 'pandas.core.frame.DataFrame'>\n",
      "RangeIndex: 21606 entries, 0 to 21605\n",
      "Data columns (total 9 columns):\n",
      " #   Column             Non-Null Count  Dtype         \n",
      "---  ------             --------------  -----         \n",
      " 0   accumulated_power  21605 non-null  float64       \n",
      " 1   activity_type      21606 non-null  object        \n",
      " 2   cadence            21605 non-null  float64       \n",
      " 3   distance           21606 non-null  float64       \n",
      " 4   enhanced_speed     21606 non-null  float64       \n",
      " 5   heart_rate         21606 non-null  int64         \n",
      " 6   power              21605 non-null  float64       \n",
      " 7   speed              21606 non-null  float64       \n",
      " 8   timestamp          21606 non-null  datetime64[ns]\n",
      "dtypes: datetime64[ns](1), float64(6), int64(1), object(1)\n",
      "memory usage: 1.5+ MB\n"
     ]
    }
   ],
   "source": [
    "# Check the summary of the modified dataframe\n",
    "ardf_master.info()"
   ]
  },
  {
   "cell_type": "markdown",
   "id": "9fcd83e8-89a3-4b80-82d2-57993d07ba5c",
   "metadata": {},
   "source": [
    "If we confirm there are no nulls to deal with, we can continue to build the final master datarrame"
   ]
  },
  {
   "cell_type": "code",
   "execution_count": 35,
   "id": "6d4dd437-1291-4142-8934-5c63661691ee",
   "metadata": {},
   "outputs": [
    {
     "data": {
      "text/html": [
       "<div>\n",
       "<style scoped>\n",
       "    .dataframe tbody tr th:only-of-type {\n",
       "        vertical-align: middle;\n",
       "    }\n",
       "\n",
       "    .dataframe tbody tr th {\n",
       "        vertical-align: top;\n",
       "    }\n",
       "\n",
       "    .dataframe thead th {\n",
       "        text-align: right;\n",
       "    }\n",
       "</style>\n",
       "<table border=\"1\" class=\"dataframe\">\n",
       "  <thead>\n",
       "    <tr style=\"text-align: right;\">\n",
       "      <th></th>\n",
       "      <th>accumulated_power</th>\n",
       "      <th>activity_type</th>\n",
       "      <th>cadence</th>\n",
       "      <th>distance</th>\n",
       "      <th>enhanced_speed</th>\n",
       "      <th>heart_rate</th>\n",
       "      <th>power</th>\n",
       "      <th>speed</th>\n",
       "      <th>timestamp</th>\n",
       "    </tr>\n",
       "  </thead>\n",
       "  <tbody>\n",
       "    <tr>\n",
       "      <th>0</th>\n",
       "      <td>139.0</td>\n",
       "      <td>cycling</td>\n",
       "      <td>74.0</td>\n",
       "      <td>3.58</td>\n",
       "      <td>3.583</td>\n",
       "      <td>90</td>\n",
       "      <td>139.0</td>\n",
       "      <td>3.583</td>\n",
       "      <td>2023-12-05 12:30:35</td>\n",
       "    </tr>\n",
       "    <tr>\n",
       "      <th>1</th>\n",
       "      <td>268.0</td>\n",
       "      <td>cycling</td>\n",
       "      <td>78.0</td>\n",
       "      <td>7.50</td>\n",
       "      <td>3.917</td>\n",
       "      <td>91</td>\n",
       "      <td>129.0</td>\n",
       "      <td>3.917</td>\n",
       "      <td>2023-12-05 12:30:36</td>\n",
       "    </tr>\n",
       "    <tr>\n",
       "      <th>2</th>\n",
       "      <td>377.0</td>\n",
       "      <td>cycling</td>\n",
       "      <td>80.0</td>\n",
       "      <td>11.72</td>\n",
       "      <td>4.222</td>\n",
       "      <td>93</td>\n",
       "      <td>109.0</td>\n",
       "      <td>4.222</td>\n",
       "      <td>2023-12-05 12:30:37</td>\n",
       "    </tr>\n",
       "    <tr>\n",
       "      <th>3</th>\n",
       "      <td>468.0</td>\n",
       "      <td>cycling</td>\n",
       "      <td>84.0</td>\n",
       "      <td>16.25</td>\n",
       "      <td>4.528</td>\n",
       "      <td>93</td>\n",
       "      <td>91.0</td>\n",
       "      <td>4.528</td>\n",
       "      <td>2023-12-05 12:30:38</td>\n",
       "    </tr>\n",
       "    <tr>\n",
       "      <th>4</th>\n",
       "      <td>558.0</td>\n",
       "      <td>cycling</td>\n",
       "      <td>88.0</td>\n",
       "      <td>21.08</td>\n",
       "      <td>4.833</td>\n",
       "      <td>95</td>\n",
       "      <td>90.0</td>\n",
       "      <td>4.833</td>\n",
       "      <td>2023-12-05 12:30:39</td>\n",
       "    </tr>\n",
       "  </tbody>\n",
       "</table>\n",
       "</div>"
      ],
      "text/plain": [
       "   accumulated_power activity_type  cadence  distance  enhanced_speed  \\\n",
       "0              139.0       cycling     74.0      3.58           3.583   \n",
       "1              268.0       cycling     78.0      7.50           3.917   \n",
       "2              377.0       cycling     80.0     11.72           4.222   \n",
       "3              468.0       cycling     84.0     16.25           4.528   \n",
       "4              558.0       cycling     88.0     21.08           4.833   \n",
       "\n",
       "   heart_rate  power  speed           timestamp  \n",
       "0          90  139.0  3.583 2023-12-05 12:30:35  \n",
       "1          91  129.0  3.917 2023-12-05 12:30:36  \n",
       "2          93  109.0  4.222 2023-12-05 12:30:37  \n",
       "3          93   91.0  4.528 2023-12-05 12:30:38  \n",
       "4          95   90.0  4.833 2023-12-05 12:30:39  "
      ]
     },
     "execution_count": 35,
     "metadata": {},
     "output_type": "execute_result"
    }
   ],
   "source": [
    "ardf_master.head()"
   ]
  },
  {
   "cell_type": "markdown",
   "id": "8569f2ba-9f81-4962-b188-d339815718f6",
   "metadata": {},
   "source": [
    "The full timestamp value includes both date and time, which can be unwieldy for later analysis. We create a new Date column that strips out the time component, leaving just the calendar date.\n",
    "This Date column then serves as the basis for a 'session' column, a simple identifier for each workout."
   ]
  },
  {
   "cell_type": "code",
   "execution_count": 47,
   "id": "88d2a1b0-2e03-4ac1-b39d-b9610492c330",
   "metadata": {},
   "outputs": [],
   "source": [
    "# Create a new column named 'date' and populate it from the date yyyy-mm-dd from the 'timestamp' column \n",
    "ardf_master['date'] = pd.to_datetime(ardf_master['timestamp'], errors='coerce').dt.date"
   ]
  },
  {
   "cell_type": "markdown",
   "id": "ed6fe564-574d-49a3-a452-fd42cb4f5593",
   "metadata": {},
   "source": [
    "For our new Session column, we take the Date value and convert it to a string. We then use a lambda d function to insert that date text after the prefix 'Session_', producing labels like \"Session_2025-10-31\"."
   ]
  },
  {
   "cell_type": "code",
   "execution_count": 49,
   "id": "a97c31ca-eabe-4030-abc2-f9839b2b415b",
   "metadata": {},
   "outputs": [],
   "source": [
    "# Create a simple session name based on date\n",
    "ardf_master['session'] = ardf_master['date'].astype(str).apply(lambda d: f\"Session_{d}\")"
   ]
  },
  {
   "cell_type": "code",
   "execution_count": 50,
   "id": "1ddaeb1c-40ab-41d8-8447-97dbd622d0eb",
   "metadata": {},
   "outputs": [],
   "source": [
    "# Reorder columns with session first\n",
    "ardf_master = ardf_master[['session', 'accumulated_power', 'activity_type', 'cadence', 'distance','enhanced_speed', 'heart_rate', 'power', 'speed', 'timestamp', 'date']]"
   ]
  },
  {
   "cell_type": "code",
   "execution_count": 51,
   "id": "1c454e45-7283-42b3-be5b-5c86c2e2f161",
   "metadata": {},
   "outputs": [
    {
     "data": {
      "text/html": [
       "<div>\n",
       "<style scoped>\n",
       "    .dataframe tbody tr th:only-of-type {\n",
       "        vertical-align: middle;\n",
       "    }\n",
       "\n",
       "    .dataframe tbody tr th {\n",
       "        vertical-align: top;\n",
       "    }\n",
       "\n",
       "    .dataframe thead th {\n",
       "        text-align: right;\n",
       "    }\n",
       "</style>\n",
       "<table border=\"1\" class=\"dataframe\">\n",
       "  <thead>\n",
       "    <tr style=\"text-align: right;\">\n",
       "      <th></th>\n",
       "      <th>session</th>\n",
       "      <th>accumulated_power</th>\n",
       "      <th>activity_type</th>\n",
       "      <th>cadence</th>\n",
       "      <th>distance</th>\n",
       "      <th>enhanced_speed</th>\n",
       "      <th>heart_rate</th>\n",
       "      <th>power</th>\n",
       "      <th>speed</th>\n",
       "      <th>timestamp</th>\n",
       "      <th>date</th>\n",
       "    </tr>\n",
       "  </thead>\n",
       "  <tbody>\n",
       "    <tr>\n",
       "      <th>0</th>\n",
       "      <td>Session_2023-12-05</td>\n",
       "      <td>139.0</td>\n",
       "      <td>cycling</td>\n",
       "      <td>74.0</td>\n",
       "      <td>3.58</td>\n",
       "      <td>3.583</td>\n",
       "      <td>90</td>\n",
       "      <td>139.0</td>\n",
       "      <td>3.583</td>\n",
       "      <td>2023-12-05 12:30:35</td>\n",
       "      <td>2023-12-05</td>\n",
       "    </tr>\n",
       "    <tr>\n",
       "      <th>1</th>\n",
       "      <td>Session_2023-12-05</td>\n",
       "      <td>268.0</td>\n",
       "      <td>cycling</td>\n",
       "      <td>78.0</td>\n",
       "      <td>7.50</td>\n",
       "      <td>3.917</td>\n",
       "      <td>91</td>\n",
       "      <td>129.0</td>\n",
       "      <td>3.917</td>\n",
       "      <td>2023-12-05 12:30:36</td>\n",
       "      <td>2023-12-05</td>\n",
       "    </tr>\n",
       "    <tr>\n",
       "      <th>2</th>\n",
       "      <td>Session_2023-12-05</td>\n",
       "      <td>377.0</td>\n",
       "      <td>cycling</td>\n",
       "      <td>80.0</td>\n",
       "      <td>11.72</td>\n",
       "      <td>4.222</td>\n",
       "      <td>93</td>\n",
       "      <td>109.0</td>\n",
       "      <td>4.222</td>\n",
       "      <td>2023-12-05 12:30:37</td>\n",
       "      <td>2023-12-05</td>\n",
       "    </tr>\n",
       "    <tr>\n",
       "      <th>3</th>\n",
       "      <td>Session_2023-12-05</td>\n",
       "      <td>468.0</td>\n",
       "      <td>cycling</td>\n",
       "      <td>84.0</td>\n",
       "      <td>16.25</td>\n",
       "      <td>4.528</td>\n",
       "      <td>93</td>\n",
       "      <td>91.0</td>\n",
       "      <td>4.528</td>\n",
       "      <td>2023-12-05 12:30:38</td>\n",
       "      <td>2023-12-05</td>\n",
       "    </tr>\n",
       "    <tr>\n",
       "      <th>4</th>\n",
       "      <td>Session_2023-12-05</td>\n",
       "      <td>558.0</td>\n",
       "      <td>cycling</td>\n",
       "      <td>88.0</td>\n",
       "      <td>21.08</td>\n",
       "      <td>4.833</td>\n",
       "      <td>95</td>\n",
       "      <td>90.0</td>\n",
       "      <td>4.833</td>\n",
       "      <td>2023-12-05 12:30:39</td>\n",
       "      <td>2023-12-05</td>\n",
       "    </tr>\n",
       "  </tbody>\n",
       "</table>\n",
       "</div>"
      ],
      "text/plain": [
       "              session  accumulated_power activity_type  cadence  distance  \\\n",
       "0  Session_2023-12-05              139.0       cycling     74.0      3.58   \n",
       "1  Session_2023-12-05              268.0       cycling     78.0      7.50   \n",
       "2  Session_2023-12-05              377.0       cycling     80.0     11.72   \n",
       "3  Session_2023-12-05              468.0       cycling     84.0     16.25   \n",
       "4  Session_2023-12-05              558.0       cycling     88.0     21.08   \n",
       "\n",
       "   enhanced_speed  heart_rate  power  speed           timestamp        date  \n",
       "0           3.583          90  139.0  3.583 2023-12-05 12:30:35  2023-12-05  \n",
       "1           3.917          91  129.0  3.917 2023-12-05 12:30:36  2023-12-05  \n",
       "2           4.222          93  109.0  4.222 2023-12-05 12:30:37  2023-12-05  \n",
       "3           4.528          93   91.0  4.528 2023-12-05 12:30:38  2023-12-05  \n",
       "4           4.833          95   90.0  4.833 2023-12-05 12:30:39  2023-12-05  "
      ]
     },
     "execution_count": 51,
     "metadata": {},
     "output_type": "execute_result"
    }
   ],
   "source": [
    "# Show column names and first five rows to check last few stepsardf_master\n",
    "ardf_master.head()"
   ]
  },
  {
   "cell_type": "code",
   "execution_count": null,
   "id": "c112a815-3250-42e1-b2d1-1b32e48273c2",
   "metadata": {},
   "outputs": [],
   "source": [
    "To complete the workflow, we export the cleaned ardf_master DataFrame to a CSV file for use in my data projects"
   ]
  },
  {
   "cell_type": "code",
   "execution_count": 52,
   "id": "3fd75e95-d31a-4c5a-b0b6-da9a9fc7d9e4",
   "metadata": {},
   "outputs": [],
   "source": [
    "ardf_master.to_csv('aerobic_recovery.csv', index=False)"
   ]
  },
  {
   "cell_type": "code",
   "execution_count": null,
   "id": "80d181ed-5ec2-4ad4-85d0-c7f620c67191",
   "metadata": {},
   "outputs": [],
   "source": []
  }
 ],
 "metadata": {
  "kernelspec": {
   "display_name": "Python 3 (ipykernel)",
   "language": "python",
   "name": "python3"
  },
  "language_info": {
   "codemirror_mode": {
    "name": "ipython",
    "version": 3
   },
   "file_extension": ".py",
   "mimetype": "text/x-python",
   "name": "python",
   "nbconvert_exporter": "python",
   "pygments_lexer": "ipython3",
   "version": "3.13.5"
  }
 },
 "nbformat": 4,
 "nbformat_minor": 5
}
